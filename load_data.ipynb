{
 "cells": [
  {
   "cell_type": "code",
   "execution_count": 1,
   "id": "b100a9f5",
   "metadata": {},
   "outputs": [],
   "source": [
    "import scipy.io"
   ]
  },
  {
   "cell_type": "code",
   "execution_count": 2,
   "id": "e96f9b47",
   "metadata": {},
   "outputs": [
    {
     "name": "stderr",
     "output_type": "stream",
     "text": [
      "c:\\users\\vedurm01\\pycharmprojects\\zema_ml\\venv\\lib\\site-packages\\scipy\\io\\matlab\\mio.py:226: MatReadWarning: Duplicate variable name \"None\" in stream - replacing previous with new\n",
      "Consider mio5.varmats_from_mat to split file into single variable files\n",
      "  matfile_dict = MR.get_variables(variable_names)\n"
     ]
    }
   ],
   "source": [
    "\"\"\"\n",
    "Load the .mat file with the training and validation data\n",
    "\"\"\"\n",
    "try:\n",
    "    achse_mat = scipy.io.loadmat('ZeMA_Matlab/Achse11_Szenario.mat')\n",
    "except FileNotFoundError:\n",
    "    achse_mat = scipy.io.loadmat('/data/vedurm01/Achse11_Szenario.mat')\n",
    "\n",
    "#extract the training data and target values. note the weird matlab formatting\n",
    "\n",
    "trainData = achse_mat['trainData']"
   ]
  },
  {
   "cell_type": "code",
   "execution_count": null,
   "id": "f24c2321",
   "metadata": {},
   "outputs": [],
   "source": [
    "trainData_reshaped = []\n",
    "for counter, val in enumerate(trainData):\n",
    "    trainData_reshaped+=[val[0]]\n",
    "trainData_reshaped = np.array(trainData_reshaped)"
   ]
  },
  {
   "cell_type": "code",
   "execution_count": 6,
   "id": "47999d6e",
   "metadata": {},
   "outputs": [
    {
     "data": {
      "text/plain": [
       "(4766, 2000)"
      ]
     },
     "execution_count": 6,
     "metadata": {},
     "output_type": "execute_result"
    }
   ],
   "source": [
    "trainData_reshaped[0].shape"
   ]
  },
  {
   "cell_type": "code",
   "execution_count": null,
   "id": "98807089",
   "metadata": {},
   "outputs": [],
   "source": []
  }
 ],
 "metadata": {
  "kernelspec": {
   "display_name": ".venv",
   "language": "python",
   "name": ".venv"
  },
  "language_info": {
   "codemirror_mode": {
    "name": "ipython",
    "version": 3
   },
   "file_extension": ".py",
   "mimetype": "text/x-python",
   "name": "python",
   "nbconvert_exporter": "python",
   "pygments_lexer": "ipython3",
   "version": "3.8.3"
  }
 },
 "nbformat": 4,
 "nbformat_minor": 5
}
