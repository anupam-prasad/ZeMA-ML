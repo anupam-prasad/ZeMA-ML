{
 "cells": [
  {
   "cell_type": "code",
   "execution_count": 2,
   "id": "6ddd2556",
   "metadata": {},
   "outputs": [],
   "source": [
    "from zema_generate_model import generate_model\n",
    "from load_achsemat import load_achsemat\n",
    "import numpy as np\n",
    "import matplotlib.pyplot as plt\n",
    "\n",
    "from keras import models\n"
   ]
  },
  {
   "cell_type": "code",
   "execution_count": 4,
   "id": "1a6d9412",
   "metadata": {},
   "outputs": [
    {
     "name": "stdout",
     "output_type": "stream",
     "text": [
      "{'layers': {'layer_1': {'activation': 'relu', 'dropout': {'choice': False}, 'n_units': 300}, 'layer_2': {'activation': None, 'dropout': {'choice': False}, 'n_units': 750}, 'layer_3': {'activation': None, 'dropout': {'choice': False}, 'n_units': 600}}, 'optimizer': 'adam', 'use_bias': False}\n"
     ]
    },
    {
     "ename": "AttributeError",
     "evalue": "'_UserObject' object has no attribute 'summary'",
     "output_type": "error",
     "traceback": [
      "\u001b[1;31m---------------------------------------------------------------------------\u001b[0m",
      "\u001b[1;31mAttributeError\u001b[0m                            Traceback (most recent call last)",
      "Input \u001b[1;32mIn [4]\u001b[0m, in \u001b[0;36m<module>\u001b[1;34m\u001b[0m\n\u001b[0;32m      5\u001b[0m \u001b[38;5;66;03m#model = generate_model(params)\u001b[39;00m\n\u001b[0;32m      6\u001b[0m model \u001b[38;5;241m=\u001b[39m models\u001b[38;5;241m.\u001b[39mload_model(\u001b[38;5;124m\"\u001b[39m\u001b[38;5;124mbest_model_simple\u001b[39m\u001b[38;5;124m\"\u001b[39m)\n\u001b[1;32m----> 7\u001b[0m \u001b[38;5;28mprint\u001b[39m(\u001b[43mmodel\u001b[49m\u001b[38;5;241;43m.\u001b[39;49m\u001b[43msummary\u001b[49m())\n",
      "\u001b[1;31mAttributeError\u001b[0m: '_UserObject' object has no attribute 'summary'"
     ]
    }
   ],
   "source": [
    "with open('best_parameters_simple.dict', \"rb\") as f:\n",
    "    params = pickle.load(f)\n",
    "print(params)\n",
    "\n",
    "#model = generate_model(params)\n",
    "model = models.load_model(\"best_model_simple\")\n",
    "print(model.summary())"
   ]
  },
  {
   "cell_type": "code",
   "execution_count": null,
   "id": "575215b5",
   "metadata": {},
   "outputs": [],
   "source": [
    "model.compile(\n",
    "        optimizer=params['optimizer'], loss=\"mean_squared_error\", metrics=[\"mse\"]\n",
    "    )"
   ]
  },
  {
   "cell_type": "code",
   "execution_count": 5,
   "id": "ebfe781c",
   "metadata": {},
   "outputs": [
    {
     "name": "stderr",
     "output_type": "stream",
     "text": [
      "c:\\users\\vedurm01\\pycharmprojects\\zema_ml\\venv\\lib\\site-packages\\scipy\\io\\matlab\\mio.py:226: MatReadWarning: Duplicate variable name \"None\" in stream - replacing previous with new\n",
      "Consider mio5.varmats_from_mat to split file into single variable files\n",
      "  matfile_dict = MR.get_variables(variable_names)\n"
     ]
    }
   ],
   "source": [
    "trainData, trainTarget = load_achsemat()"
   ]
  },
  {
   "cell_type": "code",
   "execution_count": 6,
   "id": "971888b6",
   "metadata": {},
   "outputs": [],
   "source": [
    "from sklearn.preprocessing import StandardScaler\n",
    "for k in range(11):\n",
    "    trainData[:, k, :] = StandardScaler().fit_transform(trainData[:, k, :])"
   ]
  },
  {
   "cell_type": "code",
   "execution_count": null,
   "id": "bf4ad8fb",
   "metadata": {},
   "outputs": [],
   "source": [
    "model.fit(trainData, trainTarget, epochs=100, validation_split=0.1, verbose=0)"
   ]
  },
  {
   "cell_type": "code",
   "execution_count": null,
   "id": "037e5691",
   "metadata": {},
   "outputs": [],
   "source": [
    "min(model.history.history['loss'])"
   ]
  },
  {
   "cell_type": "code",
   "execution_count": null,
   "id": "4f620274",
   "metadata": {},
   "outputs": [],
   "source": [
    "plt.plot(model.predict(trainData))\n",
    "plt.plot(trainTarget)"
   ]
  },
  {
   "cell_type": "code",
   "execution_count": null,
   "id": "4fbfd8f0",
   "metadata": {},
   "outputs": [],
   "source": [
    "model.summary()"
   ]
  },
  {
   "cell_type": "code",
   "execution_count": null,
   "id": "8840bb67",
   "metadata": {},
   "outputs": [],
   "source": [
    "model.load_weights(\"best_model_simple.h5\")"
   ]
  },
  {
   "cell_type": "code",
   "execution_count": null,
   "id": "470f8011",
   "metadata": {},
   "outputs": [],
   "source": [
    "trainData"
   ]
  },
  {
   "cell_type": "code",
   "execution_count": null,
   "id": "05a0be09",
   "metadata": {},
   "outputs": [],
   "source": [
    "model.predict(trainData)"
   ]
  },
  {
   "cell_type": "code",
   "execution_count": 7,
   "id": "e257146a",
   "metadata": {},
   "outputs": [
    {
     "ename": "AttributeError",
     "evalue": "'_UserObject' object has no attribute 'predict'",
     "output_type": "error",
     "traceback": [
      "\u001b[1;31m---------------------------------------------------------------------------\u001b[0m",
      "\u001b[1;31mAttributeError\u001b[0m                            Traceback (most recent call last)",
      "Input \u001b[1;32mIn [7]\u001b[0m, in \u001b[0;36m<module>\u001b[1;34m\u001b[0m\n\u001b[1;32m----> 1\u001b[0m \u001b[43mmodel\u001b[49m\u001b[38;5;241;43m.\u001b[39;49m\u001b[43mpredict\u001b[49m(trainData)\n",
      "\u001b[1;31mAttributeError\u001b[0m: '_UserObject' object has no attribute 'predict'"
     ]
    }
   ],
   "source": [
    "model.predict(trainData)"
   ]
  },
  {
   "cell_type": "code",
   "execution_count": null,
   "id": "c1c4efc1",
   "metadata": {},
   "outputs": [],
   "source": []
  }
 ],
 "metadata": {
  "kernelspec": {
   "display_name": ".venv",
   "language": "python",
   "name": ".venv"
  },
  "language_info": {
   "codemirror_mode": {
    "name": "ipython",
    "version": 3
   },
   "file_extension": ".py",
   "mimetype": "text/x-python",
   "name": "python",
   "nbconvert_exporter": "python",
   "pygments_lexer": "ipython3",
   "version": "3.8.3"
  }
 },
 "nbformat": 4,
 "nbformat_minor": 5
}
