{
 "cells": [
  {
   "cell_type": "code",
   "execution_count": 3,
   "id": "6ddd2556",
   "metadata": {},
   "outputs": [],
   "source": [
    "import itertools\n",
    "import os\n",
    "os.environ['TF_CPP_MIN_LOG_LEVEL'] = '2'\n",
    "import pickle\n",
    "\n",
    "from zema_generate_model import generate_model\n",
    "from load_achsemat import load_achsemat\n",
    "import numpy as np\n",
    "import matplotlib.pyplot as plt"
   ]
  },
  {
   "cell_type": "code",
   "execution_count": 4,
   "id": "1a6d9412",
   "metadata": {},
   "outputs": [
    {
     "name": "stdout",
     "output_type": "stream",
     "text": [
      "{'layers': {'layer_1': {'activation': 'tanh', 'dropout_rate': 0.0, 'n_units': 100}, 'layer_2': {'activation': 'relu', 'dropout_rate': 0.0, 'n_units': 550}, 'layer_3': {'activation': None, 'dropout_rate': 0.0, 'n_units': 1000}}, 'optimizer': 'rmsprop', 'use_bias': True}\n",
      "Model: \"sequential\"\n",
      "_________________________________________________________________\n",
      " Layer (type)                Output Shape              Param #   \n",
      "=================================================================\n",
      " dense (Dense)               (None, 11, 100)           200100    \n",
      "                                                                 \n",
      " dropout (Dropout)           (None, 11, 100)           0         \n",
      "                                                                 \n",
      " dense_1 (Dense)             (None, 11, 550)           55550     \n",
      "                                                                 \n",
      " dropout_1 (Dropout)         (None, 11, 550)           0         \n",
      "                                                                 \n",
      " dense_2 (Dense)             (None, 11, 1000)          551000    \n",
      "                                                                 \n",
      " dropout_2 (Dropout)         (None, 11, 1000)          0         \n",
      "                                                                 \n",
      " flatten (Flatten)           (None, 11000)             0         \n",
      "                                                                 \n",
      " dense_3 (Dense)             (None, 1)                 11001     \n",
      "                                                                 \n",
      "=================================================================\n",
      "Total params: 817,651\n",
      "Trainable params: 817,651\n",
      "Non-trainable params: 0\n",
      "_________________________________________________________________\n",
      "None\n"
     ]
    }
   ],
   "source": [
    "with open('best_parameters_simple.dict', \"rb\") as f:\n",
    "    params = pickle.load(f)\n",
    "print(params)\n",
    "\n",
    "model = generate_model(params)\n",
    "print(model.summary())"
   ]
  },
  {
   "cell_type": "code",
   "execution_count": 5,
   "id": "575215b5",
   "metadata": {},
   "outputs": [],
   "source": [
    "model.compile(\n",
    "        optimizer=params['optimizer'], loss=\"mean_squared_error\", metrics=[\"mse\"]\n",
    "    )"
   ]
  },
  {
   "cell_type": "code",
   "execution_count": 6,
   "id": "ebfe781c",
   "metadata": {},
   "outputs": [
    {
     "name": "stderr",
     "output_type": "stream",
     "text": [
      "c:\\users\\vedurm01\\pycharmprojects\\zema_ml\\venv\\lib\\site-packages\\scipy\\io\\matlab\\mio.py:226: MatReadWarning: Duplicate variable name \"None\" in stream - replacing previous with new\n",
      "Consider mio5.varmats_from_mat to split file into single variable files\n",
      "  matfile_dict = MR.get_variables(variable_names)\n"
     ]
    }
   ],
   "source": [
    "trainData, trainTarget = load_achsemat()"
   ]
  },
  {
   "cell_type": "code",
   "execution_count": 7,
   "id": "bf4ad8fb",
   "metadata": {},
   "outputs": [
    {
     "data": {
      "text/plain": [
       "<keras.callbacks.History at 0x237d2005700>"
      ]
     },
     "execution_count": 7,
     "metadata": {},
     "output_type": "execute_result"
    }
   ],
   "source": [
    "model.fit(trainData, trainTarget, epochs=100, validation_split=0.1, verbose=0)"
   ]
  },
  {
   "cell_type": "code",
   "execution_count": 13,
   "id": "037e5691",
   "metadata": {},
   "outputs": [
    {
     "data": {
      "text/plain": [
       "3.334486484527588"
      ]
     },
     "execution_count": 13,
     "metadata": {},
     "output_type": "execute_result"
    }
   ],
   "source": [
    "min(model.history.history['loss'])"
   ]
  },
  {
   "cell_type": "code",
   "execution_count": 16,
   "id": "4f620274",
   "metadata": {},
   "outputs": [
    {
     "data": {
      "text/plain": [
       "[<matplotlib.lines.Line2D at 0x237d25bf280>]"
      ]
     },
     "execution_count": 16,
     "metadata": {},
     "output_type": "execute_result"
    },
    {
     "data": {
      "image/png": "[encoded data removed]",
      "text/plain": [
       "<Figure size 432x288 with 1 Axes>"
      ]
     },
     "metadata": {
      "needs_background": "light"
     },
     "output_type": "display_data"
    }
   ],
   "source": [
    "plt.plot(model.predict(trainData))\n",
    "plt.plot(trainTarget)"
   ]
  },
  {
   "cell_type": "code",
   "execution_count": 17,
   "id": "46530cc2",
   "metadata": {},
   "outputs": [
    {
     "data": {
      "text/plain": [
       "'dropout_rate'"
      ]
     },
     "execution_count": 17,
     "metadata": {},
     "output_type": "execute_result"
    }
   ],
   "source": [
    "'dropout_rate'.format(1)"
   ]
  },
  {
   "cell_type": "code",
   "execution_count": null,
   "id": "75983df2",
   "metadata": {},
   "outputs": [],
   "source": []
  }
 ],
 "metadata": {
  "kernelspec": {
   "display_name": ".venv",
   "language": "python",
   "name": ".venv"
  },
  "language_info": {
   "codemirror_mode": {
    "name": "ipython",
    "version": 3
   },
   "file_extension": ".py",
   "mimetype": "text/x-python",
   "name": "python",
   "nbconvert_exporter": "python",
   "pygments_lexer": "ipython3",
   "version": "3.8.3"
  }
 },
 "nbformat": 4,
 "nbformat_minor": 5
}
