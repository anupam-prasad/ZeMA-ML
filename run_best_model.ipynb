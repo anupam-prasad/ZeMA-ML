{
 "cells": [
  {
   "cell_type": "code",
   "execution_count": 2,
   "id": "6ddd2556",
   "metadata": {},
   "outputs": [
    {
     "name": "stderr",
     "output_type": "stream",
     "text": [
      "c:\\users\\vedurm01\\pycharmprojects\\zema_ml\\venv\\lib\\site-packages\\scipy\\io\\matlab\\mio.py:226: MatReadWarning: Duplicate variable name \"None\" in stream - replacing previous with new\n",
      "Consider mio5.varmats_from_mat to split file into single variable files\n",
      "  matfile_dict = MR.get_variables(variable_names)\n"
     ]
    },
    {
     "name": "stdout",
     "output_type": "stream",
     "text": [
      "scaling training data\n"
     ]
    }
   ],
   "source": [
    "import os\n",
    "os.environ['TF_CPP_MIN_LOG_LEVEL'] = '2'\n",
    "import pickle\n",
    "\n",
    "from zema_generate_model import generate_model\n",
    "from load_achsemat import load_achsemat\n",
    "import numpy as np\n",
    "import matplotlib.pyplot as plt"
   ]
  },
  {
   "cell_type": "code",
   "execution_count": 3,
   "id": "1a6d9412",
   "metadata": {},
   "outputs": [
    {
     "name": "stdout",
     "output_type": "stream",
     "text": [
      "{'layers': {'layer_1': {'activation': 'relu', 'dropout': {'choice': False}, 'n_units': 300}, 'layer_2': {'activation': None, 'dropout': {'choice': False}, 'n_units': 750}, 'layer_3': {'activation': None, 'dropout': {'choice': False}, 'n_units': 600}}, 'optimizer': 'adam', 'use_bias': False}\n",
      "Model: \"sequential\"\n",
      "_________________________________________________________________\n",
      " Layer (type)                Output Shape              Param #   \n",
      "=================================================================\n",
      " dense (Dense)               (None, 11, 300)           600000    \n",
      "                                                                 \n",
      " dense_1 (Dense)             (None, 11, 750)           225000    \n",
      "                                                                 \n",
      " dense_2 (Dense)             (None, 11, 600)           450000    \n",
      "                                                                 \n",
      " flatten (Flatten)           (None, 6600)              0         \n",
      "                                                                 \n",
      " dense_3 (Dense)             (None, 1)                 6601      \n",
      "                                                                 \n",
      "=================================================================\n",
      "Total params: 1,281,601\n",
      "Trainable params: 1,281,601\n",
      "Non-trainable params: 0\n",
      "_________________________________________________________________\n",
      "None\n"
     ]
    }
   ],
   "source": [
    "with open('best_parameters_simple.dict', \"rb\") as f:\n",
    "    params = pickle.load(f)\n",
    "print(params)\n",
    "\n",
    "model = generate_model(params)\n",
    "print(model.summary())"
   ]
  },
  {
   "cell_type": "code",
   "execution_count": 4,
   "id": "575215b5",
   "metadata": {},
   "outputs": [],
   "source": [
    "model.compile(\n",
    "        optimizer=params['optimizer'], loss=\"mean_squared_error\", metrics=[\"mse\"]\n",
    "    )"
   ]
  },
  {
   "cell_type": "code",
   "execution_count": 5,
   "id": "ebfe781c",
   "metadata": {},
   "outputs": [
    {
     "name": "stderr",
     "output_type": "stream",
     "text": [
      "c:\\users\\vedurm01\\pycharmprojects\\zema_ml\\venv\\lib\\site-packages\\scipy\\io\\matlab\\mio.py:226: MatReadWarning: Duplicate variable name \"None\" in stream - replacing previous with new\n",
      "Consider mio5.varmats_from_mat to split file into single variable files\n",
      "  matfile_dict = MR.get_variables(variable_names)\n"
     ]
    }
   ],
   "source": [
    "trainData, trainTarget = load_achsemat()"
   ]
  },
  {
   "cell_type": "code",
   "execution_count": 6,
   "id": "953b0a94",
   "metadata": {},
   "outputs": [],
   "source": [
    "from sklearn.preprocessing import StandardScaler\n",
    "for k in range(11):\n",
    "    trainData[:, k, :] = StandardScaler().fit_transform(trainData[:, k, :])"
   ]
  },
  {
   "cell_type": "code",
   "execution_count": null,
   "id": "bf4ad8fb",
   "metadata": {},
   "outputs": [],
   "source": [
    "model.fit(trainData, trainTarget, epochs=100, validation_split=0.1, verbose=0)"
   ]
  },
  {
   "cell_type": "code",
   "execution_count": null,
   "id": "037e5691",
   "metadata": {},
   "outputs": [],
   "source": [
    "min(model.history.history['loss'])"
   ]
  },
  {
   "cell_type": "code",
   "execution_count": null,
   "id": "4f620274",
   "metadata": {},
   "outputs": [],
   "source": [
    "plt.plot(model.predict(trainData))\n",
    "plt.plot(trainTarget)"
   ]
  },
  {
   "cell_type": "code",
   "execution_count": null,
   "id": "46530cc2",
   "metadata": {},
   "outputs": [],
   "source": [
    "trainData"
   ]
  },
  {
   "cell_type": "code",
   "execution_count": null,
   "id": "75983df2",
   "metadata": {},
   "outputs": [],
   "source": [
    "model.save_weights(\"best_model_simple.h5\")"
   ]
  },
  {
   "cell_type": "code",
   "execution_count": null,
   "id": "75eb32da",
   "metadata": {},
   "outputs": [],
   "source": []
  }
 ],
 "metadata": {
  "kernelspec": {
   "display_name": ".venv",
   "language": "python",
   "name": ".venv"
  },
  "language_info": {
   "codemirror_mode": {
    "name": "ipython",
    "version": 3
   },
   "file_extension": ".py",
   "mimetype": "text/x-python",
   "name": "python",
   "nbconvert_exporter": "python",
   "pygments_lexer": "ipython3",
   "version": "3.8.3"
  }
 },
 "nbformat": 4,
 "nbformat_minor": 5
}
